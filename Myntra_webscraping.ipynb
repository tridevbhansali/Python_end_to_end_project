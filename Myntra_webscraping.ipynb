{
 "cells": [
  {
   "cell_type": "markdown",
   "id": "ae672e7b",
   "metadata": {},
   "source": [
    "# Exploring  Maximum Retail Price (MRP) of the product with Discount percentage given by different brands\n",
    "\n",
    "## Reaserch question:\n",
    "\n",
    "### 1. What is the right price to charge?\n",
    "Pricing a product or service is one of the most important aspects of your business. Pricing right can decide the revenue, brand perception, profitability and adoption of the product or service.\n",
    "\n",
    "### 2. What should the brand branch out into to avoid stagnation or imitation?\n",
    "While launching a product or service, it’s essential to understand where your competitors stand on the same product type or service line. How soon can they catch up to you and imitate your service or product?"
   ]
  },
  {
   "cell_type": "markdown",
   "id": "0bf28ebc",
   "metadata": {},
   "source": [
    "## Part A: Fetching Data"
   ]
  },
  {
   "cell_type": "code",
   "execution_count": 1,
   "id": "6e0c66b6",
   "metadata": {
    "scrolled": false
   },
   "outputs": [],
   "source": [
    "# Import packages\n",
    "from selenium import webdriver\n",
    "from selenium.webdriver.common.keys import Keys\n",
    "from selenium.webdriver.edge.service import Service\n",
    "from selenium.webdriver.common.by import By\n",
    "import pandas as pd\n",
    "import time\n",
    "import os"
   ]
  },
  {
   "cell_type": "markdown",
   "id": "51fa370e",
   "metadata": {},
   "source": [
    "## Fetching Mens T-shirt data from Myntra Website\n",
    "### Note: It takes around 2hrs to scrape 1320 pages. You can change the number of pages in For loop range function."
   ]
  },
  {
   "cell_type": "code",
   "execution_count": null,
   "id": "8cc414be",
   "metadata": {
    "scrolled": true
   },
   "outputs": [],
   "source": [
    "# Create an 'instance' of the driver.\n",
    "# This path should be to wherever you downloaded the driver.\n",
    "# A new Edge (or other browser) window should open up.\n",
    "\n",
    "service = Service(\"C:\\Program Files (x86)\\msedgedriver.exe\")\n",
    "driver = webdriver.Edge(service=service)\n",
    "\n",
    "# Create lists to store the data from scraping and use it to create a Dataframe.\n",
    "brand_name = [] # Here I'll append the Brand names as given in the website\n",
    "summary = []\n",
    "size = []\n",
    "price = []\n",
    "\n",
    "# Run the loop to retrieve data and store data as DataFrame\n",
    "for page in range(1,1321): # <-- You can change Start and End page number to scrape. For example: To scrape first 2 pages,\n",
    "                                 #replace range(1,1321) to range(1,3)\n",
    "    driver.get('https://www.myntra.com/men-tshirts?p='+str(page))\n",
    "    driver.maximize_window()\n",
    "\n",
    "    product_brands = driver.find_elements(By.CLASS_NAME, \"product-brand\")\n",
    "    product_summaries = driver.find_elements(By.CLASS_NAME, \"product-product\")\n",
    "    product_sizes = driver.find_elements(By.CLASS_NAME, \"product-sizes\")\n",
    "    product_prices = driver.find_elements(By.CLASS_NAME, \"product-price\")\n",
    "    product_stars = driver.find_elements(By.CLASS_NAME, \"product-ratingsContainer\")\n",
    "    for i in range(len(product_brands)):\n",
    "        brand_name.append(product_brands[i].text)\n",
    "        summary.append(product_summaries[i].text)\n",
    "        size.append(product_sizes[i].get_attribute('innerText')[7:])\n",
    "        price.append(product_prices[i].text)\n",
    "             \n",
    "    print(f'page no:{str(page)} completed' )\n",
    "\n",
    "# Making a Dataframe with Brand name, Product, Size, Price as keys and corresponding lists as values        \n",
    "Myntra = pd.DataFrame({'Brand_name':brand_name, 'Product': summary, 'Size': size, 'Price': price}) \n",
    "\n",
    "driver.quit()        "
   ]
  },
  {
   "cell_type": "markdown",
   "id": "c6691af7",
   "metadata": {},
   "source": [
    "### Creating a csv file containing Branded T-shirt data"
   ]
  },
  {
   "cell_type": "code",
   "execution_count": 5,
   "id": "9f76bbb8",
   "metadata": {
    "scrolled": false
   },
   "outputs": [],
   "source": [
    "Myntra.to_csv(\"F:\\Myntra.csv\")"
   ]
  },
  {
   "cell_type": "markdown",
   "id": "4f56ea1c",
   "metadata": {},
   "source": [
    "### Checking the Dataframe 'Myntra' containing T-shirt data\n",
    "### The output of this code is Myntra.csv, contains total of 65900 products retrived."
   ]
  },
  {
   "cell_type": "code",
   "execution_count": 4,
   "id": "aa0293c2",
   "metadata": {},
   "outputs": [
    {
     "data": {
      "text/html": [
       "<div>\n",
       "<style scoped>\n",
       "    .dataframe tbody tr th:only-of-type {\n",
       "        vertical-align: middle;\n",
       "    }\n",
       "\n",
       "    .dataframe tbody tr th {\n",
       "        vertical-align: top;\n",
       "    }\n",
       "\n",
       "    .dataframe thead th {\n",
       "        text-align: right;\n",
       "    }\n",
       "</style>\n",
       "<table border=\"1\" class=\"dataframe\">\n",
       "  <thead>\n",
       "    <tr style=\"text-align: right;\">\n",
       "      <th></th>\n",
       "      <th>Brand_name</th>\n",
       "      <th>Product</th>\n",
       "      <th>Size</th>\n",
       "      <th>Price</th>\n",
       "    </tr>\n",
       "  </thead>\n",
       "  <tbody>\n",
       "    <tr>\n",
       "      <th>0</th>\n",
       "      <td>HRX by Hrithik Roshan</td>\n",
       "      <td>Printed Cotton Pure Cotton T-shirt</td>\n",
       "      <td>S, M, L, XL, XXL</td>\n",
       "      <td>Rs. 349Rs. 699(50% OFF)</td>\n",
       "    </tr>\n",
       "    <tr>\n",
       "      <th>1</th>\n",
       "      <td>Huetrap</td>\n",
       "      <td>Typography Print T-shirt</td>\n",
       "      <td>S, M, L, XL, XXL</td>\n",
       "      <td>Rs. 395Rs. 1099(64% OFF)</td>\n",
       "    </tr>\n",
       "    <tr>\n",
       "      <th>2</th>\n",
       "      <td>Moda Rapido</td>\n",
       "      <td>Printed Cotton Pure Cotton T-shirt</td>\n",
       "      <td>S, M, L, XL, XXL</td>\n",
       "      <td>Rs. 314Rs. 899(65% OFF)</td>\n",
       "    </tr>\n",
       "    <tr>\n",
       "      <th>3</th>\n",
       "      <td>HRX by Hrithik Roshan</td>\n",
       "      <td>Typography Cotton T-shirt</td>\n",
       "      <td>S, M, L, XL, XXL</td>\n",
       "      <td>Rs. 349Rs. 699(50% OFF)</td>\n",
       "    </tr>\n",
       "    <tr>\n",
       "      <th>4</th>\n",
       "      <td>H&amp;M</td>\n",
       "      <td>Men Solid Regular Fit T-shirt</td>\n",
       "      <td>3XS, XS, M, L, XXL, 3XL</td>\n",
       "      <td>Rs. 399</td>\n",
       "    </tr>\n",
       "    <tr>\n",
       "      <th>...</th>\n",
       "      <td>...</td>\n",
       "      <td>...</td>\n",
       "      <td>...</td>\n",
       "      <td>...</td>\n",
       "    </tr>\n",
       "    <tr>\n",
       "      <th>65895</th>\n",
       "      <td>Ed Hardy</td>\n",
       "      <td>Printed Polo Pure Cotton T-shirt</td>\n",
       "      <td>S, M, L, XL, XXL</td>\n",
       "      <td>Rs. 999Rs. 1999(50% OFF)</td>\n",
       "    </tr>\n",
       "    <tr>\n",
       "      <th>65896</th>\n",
       "      <td>U.S. Polo Assn.</td>\n",
       "      <td>Tshirts</td>\n",
       "      <td>S, M, L, XL, XXL</td>\n",
       "      <td>Rs. 849Rs. 1699(50% OFF)</td>\n",
       "    </tr>\n",
       "    <tr>\n",
       "      <th>65897</th>\n",
       "      <td>ColorPlus</td>\n",
       "      <td>Striped Polo Collar T-shirt</td>\n",
       "      <td>XS, S, M, L, XL</td>\n",
       "      <td>Rs. 2299</td>\n",
       "    </tr>\n",
       "    <tr>\n",
       "      <th>65898</th>\n",
       "      <td>Pepe Jeans</td>\n",
       "      <td>Printed Polo Collar Pure Cotton T-shirt</td>\n",
       "      <td>S, M, L, XL, XXL</td>\n",
       "      <td>Rs. 679Rs. 1699(60% OFF)</td>\n",
       "    </tr>\n",
       "    <tr>\n",
       "      <th>65899</th>\n",
       "      <td>U.S. Polo Assn.</td>\n",
       "      <td>Men Brand Logo Polo Collar T-shirt</td>\n",
       "      <td>3XL, 4XL, 5XL</td>\n",
       "      <td>Rs. 1899</td>\n",
       "    </tr>\n",
       "  </tbody>\n",
       "</table>\n",
       "<p>65900 rows × 4 columns</p>\n",
       "</div>"
      ],
      "text/plain": [
       "                  Brand_name                                  Product  \\\n",
       "0      HRX by Hrithik Roshan       Printed Cotton Pure Cotton T-shirt   \n",
       "1                    Huetrap                 Typography Print T-shirt   \n",
       "2                Moda Rapido       Printed Cotton Pure Cotton T-shirt   \n",
       "3      HRX by Hrithik Roshan                Typography Cotton T-shirt   \n",
       "4                        H&M            Men Solid Regular Fit T-shirt   \n",
       "...                      ...                                      ...   \n",
       "65895               Ed Hardy         Printed Polo Pure Cotton T-shirt   \n",
       "65896        U.S. Polo Assn.                                  Tshirts   \n",
       "65897              ColorPlus              Striped Polo Collar T-shirt   \n",
       "65898             Pepe Jeans  Printed Polo Collar Pure Cotton T-shirt   \n",
       "65899        U.S. Polo Assn.       Men Brand Logo Polo Collar T-shirt   \n",
       "\n",
       "                          Size                     Price  \n",
       "0             S, M, L, XL, XXL   Rs. 349Rs. 699(50% OFF)  \n",
       "1             S, M, L, XL, XXL  Rs. 395Rs. 1099(64% OFF)  \n",
       "2             S, M, L, XL, XXL   Rs. 314Rs. 899(65% OFF)  \n",
       "3             S, M, L, XL, XXL   Rs. 349Rs. 699(50% OFF)  \n",
       "4      3XS, XS, M, L, XXL, 3XL                   Rs. 399  \n",
       "...                        ...                       ...  \n",
       "65895         S, M, L, XL, XXL  Rs. 999Rs. 1999(50% OFF)  \n",
       "65896         S, M, L, XL, XXL  Rs. 849Rs. 1699(50% OFF)  \n",
       "65897          XS, S, M, L, XL                  Rs. 2299  \n",
       "65898         S, M, L, XL, XXL  Rs. 679Rs. 1699(60% OFF)  \n",
       "65899            3XL, 4XL, 5XL                  Rs. 1899  \n",
       "\n",
       "[65900 rows x 4 columns]"
      ]
     },
     "execution_count": 4,
     "metadata": {},
     "output_type": "execute_result"
    }
   ],
   "source": [
    "Myntra"
   ]
  },
  {
   "cell_type": "code",
   "execution_count": null,
   "id": "261a0f47",
   "metadata": {},
   "outputs": [],
   "source": []
  }
 ],
 "metadata": {
  "celltoolbar": "Raw Cell Format",
  "kernelspec": {
   "display_name": "Python 3 (ipykernel)",
   "language": "python",
   "name": "python3"
  },
  "language_info": {
   "codemirror_mode": {
    "name": "ipython",
    "version": 3
   },
   "file_extension": ".py",
   "mimetype": "text/x-python",
   "name": "python",
   "nbconvert_exporter": "python",
   "pygments_lexer": "ipython3",
   "version": "3.9.7"
  }
 },
 "nbformat": 4,
 "nbformat_minor": 5
}
